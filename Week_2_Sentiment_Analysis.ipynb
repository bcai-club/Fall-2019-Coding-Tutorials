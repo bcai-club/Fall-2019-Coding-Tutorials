{
  "nbformat": 4,
  "nbformat_minor": 0,
  "metadata": {
    "colab": {
      "name": "Week 2: Sentiment Analysis.ipynb",
      "provenance": [],
      "collapsed_sections": [],
      "include_colab_link": true
    },
    "kernelspec": {
      "name": "python3",
      "display_name": "Python 3"
    }
  },
  "cells": [
    {
      "cell_type": "markdown",
      "metadata": {
        "id": "view-in-github",
        "colab_type": "text"
      },
      "source": [
        "<a href=\"https://colab.research.google.com/github/bcai-club/Fall-2019-Coding-Tutorials/blob/master/Week_2_Sentiment_Analysis.ipynb\" target=\"_parent\"><img src=\"https://colab.research.google.com/assets/colab-badge.svg\" alt=\"Open In Colab\"/></a>"
      ]
    },
    {
      "cell_type": "code",
      "metadata": {
        "id": "RfzSmaTuFnZZ",
        "colab_type": "code",
        "outputId": "7087c632-bc97-46b2-e520-cb071dc6d292",
        "colab": {
          "base_uri": "https://localhost:8080/",
          "height": 1000
        }
      },
      "source": [
        "import tweepy\n",
        "from textblob import TextBlob\n",
        "\n",
        "# Step 1 - Authenticate\n",
        "consumer_key= 'rArQdz3TV6UWgBFGm5suPyAKT'\n",
        "consumer_secret= 'HvSONclQ4pJ3AHczCG5N7BzJVKCykff9sG9ShiiCBOMTHEFz6G'\n",
        "\n",
        "access_token= '1072601851030265856-ByT2lDJBbKro2bm43RqYq0h0aRsrX0'\n",
        "access_token_secret= '45vicQ6BokisNWsZMPGqbkJSIsFYpVq63zfkcr8fmlfzO'\n",
        "\n",
        "auth = tweepy.OAuthHandler(consumer_key, consumer_secret)\n",
        "auth.set_access_token(access_token, access_token_secret)\n",
        "\n",
        "api = tweepy.API(auth)\n",
        "\n",
        "#Step 3 - Retrieve Tweets\n",
        "public_tweets = api.search('Keanu Reeves')\n",
        "\n",
        "\n",
        "\n",
        "#CHALLENGE - Instead of printing out each tweet, save each Tweet to a CSV file\n",
        "#and label each one as either 'positive' or 'negative', depending on the sentiment \n",
        "#You can decide the sentiment polarity threshold yourself\n",
        "\n",
        "\n",
        "for tweet in public_tweets:\n",
        "    print(tweet.text)\n",
        "    \n",
        "    #Step 4 Perform Sentiment Analysis on Tweets\n",
        "    analysis = TextBlob(tweet.text)\n",
        "    print(analysis.sentiment)\n",
        "    print(\"\")"
      ],
      "execution_count": 0,
      "outputs": [
        {
          "output_type": "stream",
          "text": [
            "RT @415holgate: \"Pompeo's whopper: Team Trump is the most science-friendly in history\" https://t.co/GdPxmPISR3\n",
            "Sentiment(polarity=0.5, subjectivity=0.5)\n",
            "\n",
            "RT @B52Malmet: Warehousing the homeless is another step towards fascism. Or maybe it is more like Hitler. Am tired tonight. Cruelty wears m…\n",
            "Sentiment(polarity=0.04999999999999999, subjectivity=0.6)\n",
            "\n",
            "This is so sad and heartbreaking. Another reason President Trump signed the Right to Try Bill! For people who have… https://t.co/2Ycc3wORAo\n",
            "Sentiment(polarity=-0.07142857142857145, subjectivity=0.7678571428571428)\n",
            "\n",
            "RT @DianeToucan: If any of you have pre existing conditions, please share with Peter. Tell him cost with ACA vs what cost would be without…\n",
            "Sentiment(polarity=0.0, subjectivity=0.0)\n",
            "\n",
            "RT @Nataya: Forecasters\n",
            "\n",
            "Not impressed\n",
            "\n",
            "https://t.co/P57L0VKFse\n",
            "\n",
            "#inners\n",
            "Sentiment(polarity=-0.5, subjectivity=1.0)\n",
            "\n",
            "RT @BruceAlrighty45: 🚨FLASH POLL🚨\n",
            "\n",
            "All the MSM polls indicate President @realDonaldTrump is down by 10 pts or more to the top 5 Democrat Pr…\n",
            "Sentiment(polarity=0.2814814814814815, subjectivity=0.42962962962962964)\n",
            "\n",
            "RT @gtconway3d: “After Mr. Trump told his staff ... to address the matter, Mr. Mulvaney called Mr. Ross, who was in Greece .... Mr. Ross th…\n",
            "Sentiment(polarity=0.0, subjectivity=0.0)\n",
            "\n",
            "RT @PENamerica: More than two-thirds of Americans have little confidence in what the White House says #Truth #Trust #Trump  https://t.co/0g…\n",
            "Sentiment(polarity=0.10416666666666667, subjectivity=0.3333333333333333)\n",
            "\n",
            "Why didn’t ‘The Hill’ report that TRump was telling a lie? https://t.co/fD3bVk40BC\n",
            "Sentiment(polarity=0.0, subjectivity=0.0)\n",
            "\n",
            "RT @CNN: .@andersoncooper: A cabinet of essentially temps cuts down on dissenting points of view for President Trump and might be just fine…\n",
            "Sentiment(polarity=-0.07777777777777779, subjectivity=0.29444444444444445)\n",
            "\n",
            "RT @js_edit: Things we learned today: donald trump doesn't have a financial stake in vaping products.\n",
            "Sentiment(polarity=0.0, subjectivity=0.0)\n",
            "\n",
            "@NCGOP can’t win unless they cheat.  Like trump. https://t.co/H4kkgmLLxj\n",
            "Sentiment(polarity=0.8, subjectivity=0.4)\n",
            "\n",
            "RT @marklevinshow: Trump wins big court case, for now\n",
            "https://t.co/sTanYWj5T5\n",
            "Sentiment(polarity=0.15, subjectivity=0.15000000000000002)\n",
            "\n",
            "RT @RyanAFournier: BREAKING: The Supreme Court has ruled that President Trump can proceed with his Asylum restrictions.\n",
            "\n",
            "This will require…\n",
            "Sentiment(polarity=0.0, subjectivity=0.0)\n",
            "\n",
            "RT @TimRunsHisMouth: Yesterday, Democrats called #NC09 a bellwether that would predict Trump would lose in 2020.\n",
            "\n",
            "Now that Dan Bishop won,…\n",
            "Sentiment(polarity=0.0, subjectivity=0.0)\n",
            "\n"
          ],
          "name": "stdout"
        }
      ]
    }
  ]
}